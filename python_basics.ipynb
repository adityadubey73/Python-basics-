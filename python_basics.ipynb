{
  "nbformat": 4,
  "nbformat_minor": 0,
  "metadata": {
    "colab": {
      "provenance": []
    },
    "kernelspec": {
      "name": "python3",
      "display_name": "Python 3"
    },
    "language_info": {
      "name": "python"
    }
  },
  "cells": [
    {
      "cell_type": "markdown",
      "source": [],
      "metadata": {
        "id": "nh7ooemhZeof"
      }
    },
    {
      "cell_type": "markdown",
      "source": [
        " #Explain the key features of Python that make it a popular choice for programming"
      ],
      "metadata": {
        "id": "VumcctELZgfO"
      }
    },
    {
      "cell_type": "markdown",
      "source": [
        "Pythons popularity stems from several key features\n",
        "* easy to read and code\n",
        "* dynamic typing\n",
        "* object oriented\n",
        "* interpreted language\n",
        "* cross platform compatibility\n",
        "* community support\n",
        "* large standard library\n"
      ],
      "metadata": {
        "id": "Z8hI095HZvjU"
      }
    },
    {
      "cell_type": "markdown",
      "source": [
        "# Describe the role of predefined keywords in Python and provide examples of how they are used in a program\n",
        "\n",
        "* Predfined keywords in python are reserved words that have specific meanings and functions within the language.They act as building blocks for creating programs and cannot be used as variable names or identifiers\n",
        "example if,elif, else:"
      ],
      "metadata": {
        "id": "VzBP4oLxa1nb"
      }
    },
    {
      "cell_type": "markdown",
      "source": [],
      "metadata": {
        "id": "8yJOQjKiZod0"
      }
    },
    {
      "cell_type": "markdown",
      "source": [
        "# Compare and contrast mutable and immutable objects in Python with examples"
      ],
      "metadata": {
        "id": "jAGnCd94cK5t"
      }
    },
    {
      "cell_type": "markdown",
      "source": [],
      "metadata": {
        "id": "HGJeGv_DcWDV"
      }
    },
    {
      "cell_type": "markdown",
      "source": [
        "Mutable objects:\n",
        "* mutable objects can be changed after they are created.\n",
        "* modifying a mutabale object does not create a new object;it alters the original object in place .\n",
        "\n",
        "Immutable objects:\n",
        "* immutable objects cannot be changed after they are created .\n",
        "* Any operation that appears to modify an immutable object actually creates a new object with the modified value."
      ],
      "metadata": {
        "id": "FM5rc9_5ch37"
      }
    },
    {
      "cell_type": "markdown",
      "source": [
        "# Discuss the different types of operators in Python and provide examples of how they are used"
      ],
      "metadata": {
        "id": "UvSMJ3NBecQb"
      }
    },
    {
      "cell_type": "markdown",
      "source": [
        "* Python offers several types operators , broadly categorized into arithmetic , logical, assignment, comparison, bitwise ,identity, and membership.Arithemtic operators perform calcultions , logical operators evalutes conditions ,assignment operators assign values , comparison operators establish relationships between values, bitwise operators work at the bit level, identity operators check object identity,  and membereship operators check for presence within sequences.\n",
        "\n",
        "1 Arithmetic operators :\n",
        "*Addition(+): x+y (|e.g., 5+3 returns 8)\n",
        "2 Logical operators :\n",
        "*AND(and):x and y (|returns True if both x and y are True ).\n",
        "3 Assignmet operators :\n",
        "* Equal (=) : x = y ( adds y to x and assigns the result to x )\n",
        "4 Comparison operators :\n",
        "* Equal to (==) : x == y ( returns True if x is equal to y ).\n",
        "5 Bitwise operators :\n",
        "* AND (&) : X & Y (bitwie AND operation )."
      ],
      "metadata": {
        "id": "ugKCyvmXen6g"
      }
    },
    {
      "cell_type": "markdown",
      "source": [
        "#Explain the concept of type casting in Python with examples"
      ],
      "metadata": {
        "id": "4x3xPV9-j0cD"
      }
    },
    {
      "cell_type": "markdown",
      "source": [
        "* Type casting , also known as type conversion , is the process of changing the data type of a variable from one type to another. This is necessary beacuse Python is dynamically - typed language, meaning the type of a variablle is determined at runtime, and it can be useful to ensure compatibility between different data types.\n",
        "* Implicit type casting\n",
        "* Explicit type casting\n"
      ],
      "metadata": {
        "id": "4ycnL_8Mj-0U"
      }
    },
    {
      "cell_type": "markdown",
      "source": [
        "# How do conditional statements work in Python? Illustrate with examples"
      ],
      "metadata": {
        "id": "0zUrQkXEltUb"
      }
    },
    {
      "cell_type": "markdown",
      "source": [
        "# Conditional statements in python allow the program to execute different code blocks based on whether a conditon is true or false. The primiary conditional statment are if , elif (else if), and else.\n",
        "* If statment : evalutes  condition . If the condition is true , the code block under the if statement is executed . If the condition is  false , the code block is skipped .\n",
        "* if-else statement: the if-else statement allows for two possible code blocks to be executed . if the condition is true , the code under the if statement is executed.If the condition is false,  the code block under the  else statement is executed .\n",
        "*if-elif-else statement : the if-elif-else statement allows for multiple conditions to be checked. It first checks the if condition. if it's true, the corresponding code block is executed. if its false, it checks each elif condition in order. If an elif condition is true , it's code block is executed .if non of the conditions are true, the code block under the else statement is executed."
      ],
      "metadata": {
        "id": "ZJHNhqgNl3SW"
      }
    },
    {
      "cell_type": "markdown",
      "source": [
        "# Describe the different types of loops in Python and their use cases with examples."
      ],
      "metadata": {
        "id": "kAqugkfJrYmh"
      }
    },
    {
      "cell_type": "markdown",
      "source": [
        "# For loop:\n",
        "* use case : primiarily used for iterating over a sequence (like lists, tuples ,strings or ranges )or any iterable object. it  execute a block of cod for each item in the sequence .\n",
        " example"
      ],
      "metadata": {
        "id": "tChHi1x1rhHv"
      }
    },
    {
      "cell_type": "code",
      "source": [
        "Fruits = [ \"apple\",\"banana\",\"cherry\"]\n",
        "for fruit in Fruits:\n",
        "  print(fruit)\n",
        "\n",
        "\n",
        "\n"
      ],
      "metadata": {
        "colab": {
          "base_uri": "https://localhost:8080/"
        },
        "id": "IklUjEk2sqIn",
        "outputId": "726d6244-b196-4a55-f01c-530a15ce37ad"
      },
      "execution_count": 2,
      "outputs": [
        {
          "output_type": "stream",
          "name": "stdout",
          "text": [
            "apple\n",
            "banana\n",
            "cherry\n"
          ]
        }
      ]
    },
    {
      "cell_type": "markdown",
      "source": [],
      "metadata": {
        "id": "Ycp1hQC8jhu2"
      }
    },
    {
      "cell_type": "markdown",
      "source": [
        "# Range Function: often used with the range() function to iterate a specific number of times."
      ],
      "metadata": {
        "id": "MrmcsDcPuOnD"
      }
    },
    {
      "cell_type": "code",
      "source": [
        "for i in range(5): # Generates numbers from 0 to 4\n",
        "  print(i)"
      ],
      "metadata": {
        "colab": {
          "base_uri": "https://localhost:8080/"
        },
        "id": "JBFkhj4VuvaE",
        "outputId": "107e0910-ecf7-432a-8cd2-a4b1e39dfcf8"
      },
      "execution_count": 3,
      "outputs": [
        {
          "output_type": "stream",
          "name": "stdout",
          "text": [
            "0\n",
            "1\n",
            "2\n",
            "3\n",
            "4\n"
          ]
        }
      ]
    },
    {
      "cell_type": "markdown",
      "source": [
        "# while loop:\n",
        "use case: executes a block of code as long as a specified condition is true.useful when the number of iteration is not known in advance."
      ],
      "metadata": {
        "id": "sT9A6wtAvR3p"
      }
    },
    {
      "cell_type": "code",
      "source": [
        "count = 0\n",
        "while count < 5:\n",
        "  print(count)\n",
        "  count += 1"
      ],
      "metadata": {
        "colab": {
          "base_uri": "https://localhost:8080/"
        },
        "id": "3SfGpBopv5sh",
        "outputId": "dbfa9cb5-db39-4ae5-c230-1bfff0572671"
      },
      "execution_count": 4,
      "outputs": [
        {
          "output_type": "stream",
          "name": "stdout",
          "text": [
            "0\n",
            "1\n",
            "2\n",
            "3\n",
            "4\n"
          ]
        }
      ]
    },
    {
      "cell_type": "markdown",
      "source": [
        "# Infinite loop: A while loop cn create an infinite loop when the condition is always true (e.g., while True:).this is often used in scenarios that requires continuous operation."
      ],
      "metadata": {
        "id": "v502al1gwR7v"
      }
    },
    {
      "cell_type": "markdown",
      "source": [],
      "metadata": {
        "id": "Vq3alUAbwbd0"
      }
    },
    {
      "cell_type": "markdown",
      "source": [
        "# Nested loop\n",
        "use case: loops can be nested inside other loops. this is useful for tasks that require iterating over multiple dimensions ( e.g., matrices, grids)."
      ],
      "metadata": {
        "id": "s3g0rNikxQzo"
      }
    },
    {
      "cell_type": "code",
      "source": [
        "for i in range(2):\n",
        "  for j in range(3):\n",
        "    print(f\" ({i}, {j})\")"
      ],
      "metadata": {
        "colab": {
          "base_uri": "https://localhost:8080/"
        },
        "id": "83a2RtUwx56W",
        "outputId": "870a0e8e-0555-4ee2-be41-565def148ec9"
      },
      "execution_count": 5,
      "outputs": [
        {
          "output_type": "stream",
          "name": "stdout",
          "text": [
            " (0, 0)\n",
            " (0, 1)\n",
            " (0, 2)\n",
            " (1, 0)\n",
            " (1, 1)\n",
            " (1, 2)\n"
          ]
        }
      ]
    },
    {
      "cell_type": "markdown",
      "source": [
        "4 loop control statement\n",
        "* break : Terminates the loop prematurely, regardless of the loops condtions.\n",
        "* continue : skips the current iteration and moves to the next iteration of the loop.\n",
        "* else : can be used with for and while loops.the else block executes if the loop finishes normally (i,e., without encountering a break statement).\n"
      ],
      "metadata": {
        "id": "SnYzpkNjy1oJ"
      }
    },
    {
      "cell_type": "markdown",
      "source": [
        "5 Looping Through multiple iterables :The zip() function can used to iterate through multiple iterables in parallel."
      ],
      "metadata": {
        "id": "CNbW9Ymh0U9-"
      }
    },
    {
      "cell_type": "code",
      "source": [
        "names =  [\"Alice\", \"Bob\", \"Charlie\"]\n",
        "ages = [25, 30, 28]\n",
        "for name, age in zip (names,ages):\n",
        "  print(f\"{name} is {age} years old.\")"
      ],
      "metadata": {
        "colab": {
          "base_uri": "https://localhost:8080/"
        },
        "id": "H5WWoXIe0wUc",
        "outputId": "6e72085a-5df0-4894-ba99-78a0c52dad42"
      },
      "execution_count": 6,
      "outputs": [
        {
          "output_type": "stream",
          "name": "stdout",
          "text": [
            "Alice is 25 years old.\n",
            "Bob is 30 years old.\n",
            "Charlie is 28 years old.\n"
          ]
        }
      ]
    },
    {
      "cell_type": "code",
      "source": [],
      "metadata": {
        "id": "iLTJ5lpKun5z"
      },
      "execution_count": null,
      "outputs": []
    },
    {
      "cell_type": "code",
      "execution_count": null,
      "metadata": {
        "id": "sv9SsA4AZY8G"
      },
      "outputs": [],
      "source": []
    }
  ]
}